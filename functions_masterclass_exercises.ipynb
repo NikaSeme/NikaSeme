{
 "cells": [
  {
   "cell_type": "markdown",
   "id": "19b3378f",
   "metadata": {},
   "source": [
    "# Python Functions Masterclass: max, min, sorted, key, and Friends\n",
    "Generated: 2025-10-28 14:38\n",
    "\n",
    "This notebook shows you how to **compare, sort, reduce, and traverse** like a pro.\n",
    "We go deep on `key=`, show patterns you actually need, and give you **two exercises per function**."
   ]
  },
  {
   "cell_type": "markdown",
   "id": "3f147b1a",
   "metadata": {},
   "source": [
    "## The `key=` parameter (the secret sauce)\n",
    "Works with `max`, `min`, `sorted`, `list.sort`.\n",
    "It maps each element to a comparable value the function will use for comparisons.\n",
    "\n",
    "Common keys: `len`, `str.lower`, `lambda x: x[1]`, tuples for tiebreakers, and `operator.itemgetter/attrgetter`.\n",
    "Use `default=` for `min/max` when the iterable might be empty. `reverse=True` flips final order, not keys.\n",
    "Avoid NaN in comparisons."
   ]
  },
  {
   "cell_type": "markdown",
   "id": "793c0fde",
   "metadata": {},
   "source": [
    "## `max` — pick the best element"
   ]
  },
  {
   "cell_type": "markdown",
   "id": "372e61d9",
   "metadata": {},
   "source": [
    "**Signature:** `max(iterable, *, key=None, default=_no_default)` or `max(a, b, *rest, key=None)`\n",
    "**Use cases:** largest number, longest string, best record by metric."
   ]
  },
  {
   "cell_type": "code",
   "execution_count": null,
   "id": "e74a0934",
   "metadata": {},
   "outputs": [],
   "source": [
    "# Examples\n",
    "nums = [10, 3, 27, 15]\n",
    "print(max(nums))  # 27\n",
    "\n",
    "words = [\"Data\", \"science\", \"AI\", \"statistics\"]\n",
    "print(max(words, key=len))  # 'statistics'\n",
    "\n",
    "records = [{\"name\":\"Ana\",\"score\":88}, {\"name\":\"Ben\",\"score\":91}, {\"name\":\"Cai\",\"score\":91}]\n",
    "# Tie-break by name ascending (demo: prefer smaller first letter codepoint)\n",
    "best = max(records, key=lambda r: (r[\"score\"], -ord(r[\"name\"][0])))\n",
    "print(best)"
   ]
  },
  {
   "cell_type": "markdown",
   "id": "af0735b7",
   "metadata": {},
   "source": [
    "### Exercises (2)\n",
    "1. **Top Student**: Given `{\"name\": str, \"score\": int}` dicts, return the highest score; tie-break by name A→Z.\n",
    "2. **Heaviest Package**: Each package is `(weight_kg, volume_l)`; return the tuple with **max density** (kg/L). Return `None` if empty."
   ]
  },
  {
   "cell_type": "code",
   "execution_count": null,
   "id": "aaad5573",
   "metadata": {},
   "outputs": [],
   "source": [
    "def top_student(students):\n",
    "    # TODO: max(..., key=lambda r: (r[\"score\"], ???))\n",
    "    pass\n",
    "\n",
    "def densest(packages):\n",
    "    # TODO: max(..., key=lambda t: t[0]/t[1]), handle empty via default=None\n",
    "    pass"
   ]
  },
  {
   "cell_type": "markdown",
   "id": "9b753e49",
   "metadata": {},
   "source": [
    "## `min` — pick the smallest element"
   ]
  },
  {
   "cell_type": "markdown",
   "id": "6a28079c",
   "metadata": {},
   "source": [
    "Mirror of `max`, same `key` behavior. Use `default=` to avoid ValueError on empty iterables."
   ]
  },
  {
   "cell_type": "code",
   "execution_count": null,
   "id": "716170d9",
   "metadata": {},
   "outputs": [],
   "source": [
    "# Examples\n",
    "temps = [12.1, 9.8, 14.0, 9.8]\n",
    "print(min(temps))  # 9.8\n",
    "\n",
    "names = [\"ALICE\", \"bob\", \"Carol\"]\n",
    "print(min(names, key=str.lower))  # 'ALICE' (case-insensitive)"
   ]
  },
  {
   "cell_type": "markdown",
   "id": "e7d17093",
   "metadata": {},
   "source": [
    "### Exercises (2)\n",
    "1. **Earliest Date**: Given date strings `\"YYYY-MM-DD\"`, return the earliest using `min` (ISO sorts lexicographically).\n",
    "2. **Cheapest by Unit**: `(grams, price)`; find the **min** €/kg. Return `None` if empty/invalid."
   ]
  },
  {
   "cell_type": "code",
   "execution_count": null,
   "id": "78c02562",
   "metadata": {},
   "outputs": [],
   "source": [
    "def earliest_date_iso(dates):\n",
    "    # Hint: ISO strings compare chronologically already; still show key usage if you want\n",
    "    pass\n",
    "\n",
    "def best_unit_price(packs):\n",
    "    # €/kg = price / (grams/1000)\n",
    "    pass"
   ]
  },
  {
   "cell_type": "markdown",
   "id": "9dfe81f5",
   "metadata": {},
   "source": [
    "## `sorted` — return a new ordered list (stable)"
   ]
  },
  {
   "cell_type": "markdown",
   "id": "4b4af4e6",
   "metadata": {},
   "source": [
    "**Signature:** `sorted(iterable, *, key=None, reverse=False)`.\n",
    "Stable: ties keep original order.\n",
    "Use case: multi-criteria keys like `(primary, secondary)`."
   ]
  },
  {
   "cell_type": "code",
   "execution_count": null,
   "id": "3a368ec1",
   "metadata": {},
   "outputs": [],
   "source": [
    "# Examples\n",
    "words = [\"banana\", \"Apple\", \"cherry\", \"apricot\"]\n",
    "print(sorted(words, key=str.lower))\n",
    "\n",
    "people = [\n",
    "    {\"name\":\"Zed\",\"age\":20},\n",
    "    {\"name\":\"Amy\",\"age\":20},\n",
    "    {\"name\":\"Bob\",\"age\":19},\n",
    "]\n",
    "print(sorted(people, key=lambda p: (p[\"age\"], p[\"name\"])))"
   ]
  },
  {
   "cell_type": "markdown",
   "id": "69132aa1",
   "metadata": {},
   "source": [
    "### Exercises (2)\n",
    "1. **Sort Cities**: Records `(city, population, country)`. Sort by population desc, tie by city asc.\n",
    "2. **Version Sort**: Sort \"1.10.2\", \"1.2.11\", \"2.0.0\" by numeric components."
   ]
  },
  {
   "cell_type": "code",
   "execution_count": null,
   "id": "a403e252",
   "metadata": {},
   "outputs": [],
   "source": [
    "def sort_cities(records):\n",
    "    # key=lambda r: (-r[1], r[0])\n",
    "    pass\n",
    "\n",
    "def sort_versions(versions):\n",
    "    # key=lambda s: tuple(map(int, s.split('.')))\n",
    "    pass"
   ]
  },
  {
   "cell_type": "markdown",
   "id": "7492973c",
   "metadata": {},
   "source": [
    "## `list.sort` — in-place ordering"
   ]
  },
  {
   "cell_type": "markdown",
   "id": "2ca2a090",
   "metadata": {},
   "source": [
    "Mutates the list; returns `None`. Same args as `sorted`."
   ]
  },
  {
   "cell_type": "code",
   "execution_count": null,
   "id": "744cc176",
   "metadata": {},
   "outputs": [],
   "source": [
    "# Example\n",
    "data = [(\"b\", 2), (\"a\", 3), (\"a\", 1)]\n",
    "data.sort(key=lambda t: (t[0], t[1]))\n",
    "print(data)"
   ]
  },
  {
   "cell_type": "markdown",
   "id": "90fcfcbd",
   "metadata": {},
   "source": [
    "### Exercises (2)\n",
    "1. **Normalize Case and Sort**: Sort names case-insensitively **in place**.\n",
    "2. **Stable Bucket**: `(group, value)` pairs; sort by `group` while preserving input order for equal groups."
   ]
  },
  {
   "cell_type": "code",
   "execution_count": null,
   "id": "cfb6e670",
   "metadata": {},
   "outputs": [],
   "source": [
    "def sort_names_inplace(names):\n",
    "    # names.sort(key=str.lower)\n",
    "    pass\n",
    "\n",
    "def stable_group_sort(pairs):\n",
    "    # pairs.sort(key=lambda t: t[0])\n",
    "    pass"
   ]
  },
  {
   "cell_type": "markdown",
   "id": "737dcd09",
   "metadata": {},
   "source": [
    "## `any` and `all` — boolean reducers"
   ]
  },
  {
   "cell_type": "markdown",
   "id": "2e565d62",
   "metadata": {},
   "source": [
    "`any(iter)` True if any truthy; `all(iter)` True if all truthy.\n",
    "Combine with generator expressions for lazy checks."
   ]
  },
  {
   "cell_type": "code",
   "execution_count": null,
   "id": "c0c95263",
   "metadata": {},
   "outputs": [],
   "source": [
    "# Examples\n",
    "print(any([0, \"\", None, 5]))  # True\n",
    "print(all([1, \"x\", [0]]))     # True (non-empty containers are truthy)\n",
    "nums = [2, 4, 6, 8]\n",
    "print(all(n % 2 == 0 for n in nums))  # True"
   ]
  },
  {
   "cell_type": "markdown",
   "id": "9aedef7b",
   "metadata": {},
   "source": [
    "### Exercises (2)\n",
    "1. **Valid Passwords**: Keep only those with length ≥ 8, at least one digit, at least one letter.\n",
    "2. **Matrix All-Positive**: Check if a 2D list has all numbers > 0."
   ]
  },
  {
   "cell_type": "code",
   "execution_count": null,
   "id": "f9f48d25",
   "metadata": {},
   "outputs": [],
   "source": [
    "def filter_strong_passwords(passwords):\n",
    "    pass\n",
    "\n",
    "def matrix_all_positive(matrix):\n",
    "    pass"
   ]
  },
  {
   "cell_type": "markdown",
   "id": "83ae66c3",
   "metadata": {},
   "source": [
    "## `sum` — numeric reduction"
   ]
  },
  {
   "cell_type": "markdown",
   "id": "efc2764d",
   "metadata": {},
   "source": [
    "`sum(iterable, start=0)`. For strings, use `''.join(...)` instead of sum."
   ]
  },
  {
   "cell_type": "code",
   "execution_count": null,
   "id": "b3df17aa",
   "metadata": {},
   "outputs": [],
   "source": [
    "# Examples\n",
    "print(sum([1,2,3]))     # 6\n",
    "print(sum(range(101)))  # 5050"
   ]
  },
  {
   "cell_type": "markdown",
   "id": "e9b66b98",
   "metadata": {},
   "source": [
    "### Exercises (2)\n",
    "1. **Weighted Sum**: Given `(value, weight)` pairs, compute Σ value*weight.\n",
    "2. **Diagonal Sum**: For a square matrix, compute the trace Σ a[i][i]."
   ]
  },
  {
   "cell_type": "code",
   "execution_count": null,
   "id": "1c8f1943",
   "metadata": {},
   "outputs": [],
   "source": [
    "def weighted_sum(pairs):\n",
    "    pass\n",
    "\n",
    "def trace(mat):\n",
    "    pass"
   ]
  },
  {
   "cell_type": "markdown",
   "id": "43d4d2c8",
   "metadata": {},
   "source": [
    "## `enumerate` — index while you iterate"
   ]
  },
  {
   "cell_type": "markdown",
   "id": "ac59d337",
   "metadata": {},
   "source": [
    "`enumerate(iterable, start=0)` yields `(index, value)`. Cleaner than manual counters."
   ]
  },
  {
   "cell_type": "code",
   "execution_count": null,
   "id": "1f8ae769",
   "metadata": {},
   "outputs": [],
   "source": [
    "# Example\n",
    "for i, ch in enumerate(\"python\", start=1):\n",
    "    if i % 2 == 0:\n",
    "        print(i, ch)"
   ]
  },
  {
   "cell_type": "markdown",
   "id": "802a0fd6",
   "metadata": {},
   "source": [
    "### Exercises (2)\n",
    "1. **Find First Upper**: Index of first uppercase char or `-1`.\n",
    "2. **Mismatch Indices**: For two equal-length strings, list all indices where they differ."
   ]
  },
  {
   "cell_type": "code",
   "execution_count": null,
   "id": "c71d2ce3",
   "metadata": {},
   "outputs": [],
   "source": [
    "def first_upper_index(s):\n",
    "    pass\n",
    "\n",
    "def mismatch_indices(a, b):\n",
    "    pass"
   ]
  },
  {
   "cell_type": "markdown",
   "id": "92a39fda",
   "metadata": {},
   "source": [
    "## `zip` — lockstep traversal"
   ]
  },
  {
   "cell_type": "markdown",
   "id": "48851684",
   "metadata": {},
   "source": [
    "`zip(*iterables, strict=False)` pairs elements. With `strict=True`, raises on length mismatch."
   ]
  },
  {
   "cell_type": "code",
   "execution_count": null,
   "id": "21bda501",
   "metadata": {},
   "outputs": [],
   "source": [
    "# Examples\n",
    "a = [1,2,3]; b = [10,20,30]\n",
    "print(list(zip(a, b)))\n",
    "\n",
    "s = \"abcd\"; t = \"abXd\"\n",
    "diffs = [(i, x, y) for i, (x, y) in enumerate(zip(s, t)) if x != y]\n",
    "print(diffs)"
   ]
  },
  {
   "cell_type": "markdown",
   "id": "982456bc",
   "metadata": {},
   "source": [
    "### Exercises (2)\n",
    "1. **Dot Product**: Compute dot product of two equal-length numeric lists.\n",
    "2. **Merge Keys/Values**: Given lists `keys`, `values`, build a dict; ignore extras."
   ]
  },
  {
   "cell_type": "code",
   "execution_count": null,
   "id": "c646f627",
   "metadata": {},
   "outputs": [],
   "source": [
    "def dot(a, b):\n",
    "    pass\n",
    "\n",
    "def dict_from_lists(keys, values):\n",
    "    pass"
   ]
  },
  {
   "cell_type": "markdown",
   "id": "e91a2cc4",
   "metadata": {},
   "source": [
    "## `map` and `filter` — transform and select"
   ]
  },
  {
   "cell_type": "markdown",
   "id": "ccc63929",
   "metadata": {},
   "source": [
    "`map(f, it)` applies f; `filter(pred, it)` keeps where pred(elem) is truthy. List comprehensions are often clearer, but laziness can help for streams."
   ]
  },
  {
   "cell_type": "code",
   "execution_count": null,
   "id": "6e7291a1",
   "metadata": {},
   "outputs": [],
   "source": [
    "# Examples\n",
    "nums = [1, 2, 3, 4]\n",
    "print(list(map(lambda x: x*x, nums)))\n",
    "print(list(filter(lambda x: x % 2 == 0, nums)))"
   ]
  },
  {
   "cell_type": "markdown",
   "id": "e1b0b03a",
   "metadata": {},
   "source": [
    "### Exercises (2)\n",
    "1. **Normalize Case**: Map strings to lowercase trimmed versions.\n",
    "2. **Keep Primes**: Filter numbers to only primes (write small `is_prime`)."
   ]
  },
  {
   "cell_type": "code",
   "execution_count": null,
   "id": "a5b1fbce",
   "metadata": {},
   "outputs": [],
   "source": [
    "def normalize_lower(strings):\n",
    "    pass\n",
    "\n",
    "def keep_primes(nums):\n",
    "    pass"
   ]
  },
  {
   "cell_type": "markdown",
   "id": "ed4b3982",
   "metadata": {},
   "source": [
    "## `functools.cmp_to_key` — when you must define a comparator"
   ]
  },
  {
   "cell_type": "markdown",
   "id": "1f1f1b35",
   "metadata": {},
   "source": [
    "Prefer `key=`; use comparators only when unavoidable (natural sort, locale-ish hacks)."
   ]
  },
  {
   "cell_type": "code",
   "execution_count": null,
   "id": "7a0ce096",
   "metadata": {},
   "outputs": [],
   "source": [
    "from functools import cmp_to_key\n",
    "def cmp(a, b):\n",
    "    if abs(a) != abs(b):\n",
    "        return -1 if abs(a) < abs(b) else 1\n",
    "    return -1 if a < b else (1 if a > b else 0)\n",
    "\n",
    "data = [3, -1, -3, 2, 0, -2]\n",
    "print(sorted(data, key=cmp_to_key(cmp)))"
   ]
  },
  {
   "cell_type": "markdown",
   "id": "81d79624",
   "metadata": {},
   "source": [
    "### Exercises (2)\n",
    "1. **Natural Sort Filenames**: Sort so `file2.txt` comes before `file10.txt`.\n",
    "2. **Umlaut-Flat Order**: Sort names treating `ä~a`, `ö~o`, `ü~u`."
   ]
  },
  {
   "cell_type": "code",
   "execution_count": null,
   "id": "87bdc9b1",
   "metadata": {},
   "outputs": [],
   "source": [
    "def sort_files_natural(names):\n",
    "    pass\n",
    "\n",
    "def sort_names_umlaut(names):\n",
    "    pass"
   ]
  },
  {
   "cell_type": "markdown",
   "id": "3307c623",
   "metadata": {},
   "source": [
    "## Pro tips recap\n",
    "- Prefer `key=` with tuples for multi-criteria ordering.\n",
    "- Use `default=` for safe `min`/`max` on possibly-empty iterables.\n",
    "- `sorted` returns a new list; `list.sort` mutates in place.\n",
    "- Combine `any`/`all` with generator expressions for clean logic.\n",
    "- For strings, use `''.join(...)`, not `sum(...)`."
   ]
  }
 ],
 "metadata": {},
 "nbformat": 4,
 "nbformat_minor": 5
}
