{
 "cells": [
  {
   "cell_type": "markdown",
   "id": "754d0ad6",
   "metadata": {},
   "source": [
    "# Similar Exercises to Midterm Tasks\n",
    "Generated on 2025-10-27\n",
    "\n",
    "These mirror the original four tasks in scope and difficulty, with small twists.\n"
   ]
  },
  {
   "cell_type": "markdown",
   "id": "73e4296a",
   "metadata": {},
   "source": [
    "## Based on Task 1: Unit Price Comparator\n",
    "Compare pack offers by calculating price per kilogram and pick the cheapest.\n"
   ]
  },
  {
   "cell_type": "markdown",
   "id": "290ab1b6",
   "metadata": {},
   "source": [
    "### S1.1 — Best Value per Unit\n",
    "\n",
    "Write a function `best_value(items)` that takes a list of tuples `(weight_in_g, price_in_eur)` and returns the tuple that offers the **lowest price per kilogram**. \n",
    "\n",
    "         - Accept both integers and floats for weights/prices.\n",
    "         - Ignore entries with non-positive weight or price.\n",
    "         - Round comparisons at 4 decimal places to avoid floating noise.\n",
    "         - Return `None` if all entries are invalid.\n",
    "\n",
    "         **Example**  \n",
    "         `best_value([(500, 2.99), (1000, 6.10), (750, 4.49)]) -> (500, 2.99)`\n"
   ]
  },
  {
   "cell_type": "markdown",
   "id": "0a489fbf",
   "metadata": {},
   "source": [
    "### S1.2 — Cart Total With Unit-Price Labels\n",
    "\n",
    "You get supermarket labels as strings like `\"750 g • 4.49 € • 5.987 €/kg\"`. \n",
    "         Write `verify_and_total(labels)` that:\n",
    "\n",
    "         1. Parses each label.\n",
    "         2. Checks whether the printed unit price matches weight and price within ±0.01 €/kg.\n",
    "         3. Returns a tuple `(total_price, mismatches)` where `mismatches` is a list of labels whose unit price doesn't match.\n",
    "\n",
    "         **Example**  \n",
    "         `verify_and_total([\"500 g • 2.99 € • 5.98 €/kg\", \"1 kg • 6.10 € • 6.10 €/kg\"]) -> (9.09, [])`\n"
   ]
  },
  {
   "cell_type": "markdown",
   "id": "e6e35bd3",
   "metadata": {},
   "source": [
    "## Based on Task 2: Chess Board\n",
    "Generate an n×n chessboard pattern using alternating symbols.\n"
   ]
  },
  {
   "cell_type": "markdown",
   "id": "70b0a30f",
   "metadata": {},
   "source": [
    "### S2.1 — Custom Board Symbols\n",
    "\n",
    "Write `board(n, a='#', b='.')` that returns a string representing an `n×n` grid with alternating symbols like a chessboard, starting with `a` at the top-left. \n",
    "\n",
    "         - The last character of each row should be a newline `\\n`.\n",
    "         - Validate `n` ∈ [1, 50]. Raise `ValueError` otherwise.\n",
    "\n",
    "         **Example (n=4, a='X', b='O')**  \n",
    "         ```\n",
    "         XOXO\n",
    "         OXOX\n",
    "         XOXO\n",
    "         OXOX\n",
    "         ```\n"
   ]
  },
  {
   "cell_type": "markdown",
   "id": "8e72339f",
   "metadata": {},
   "source": [
    "### S2.2 — Rectangle Checker Pattern\n",
    "\n",
    "Generalize to rectangles. Implement `checker(h, w, a='⬛', b='⬜')` returning a string for a `h×w` checker pattern.\n",
    "\n",
    "         - Top-left is always `a`.\n",
    "         - No trailing spaces. Each row ends with `\\n`.\n",
    "         - Ensure memory efficiency for large sizes (e.g., `h=2000, w=2000` should stream or build by rows).\n"
   ]
  },
  {
   "cell_type": "markdown",
   "id": "bb5d7340",
   "metadata": {},
   "source": [
    "## Based on Task 3: Palindrome (Alnum, Case-insensitive)\n",
    "Check if a string is a palindrome ignoring case and non-alphanumeric characters.\n"
   ]
  },
  {
   "cell_type": "markdown",
   "id": "6002697c",
   "metadata": {},
   "source": [
    "### S3.1 — Near-Palindrome Distance\n",
    "\n",
    "Write `pal_distance(s)` that returns the number of index positions where `s` differs from its reverse, ignoring non-alphanumerics and case.\n",
    "\n",
    "         - If the cleaned string is empty, return 0.\n",
    "         - `pal_distance(\"abca\") -> 1` \n",
    "         - `pal_distance(\"A man, a plan, a canal: Panama!\") -> 0`\n"
   ]
  },
  {
   "cell_type": "markdown",
   "id": "faae7a8c",
   "metadata": {},
   "source": [
    "### S3.2 — Longest Palindromic Word\n",
    "\n",
    "Given a sentence, write `longest_pal_word(text)` that splits on whitespace and punctuation, and returns the **longest** word that is a palindrome ignoring case.\n",
    "\n",
    "         - If multiple share the max length, return the first.\n",
    "         - Return `None` if none found.\n",
    "         - Treat digits as valid characters in words.\n"
   ]
  },
  {
   "cell_type": "markdown",
   "id": "f8999010",
   "metadata": {},
   "source": [
    "## Based on Task 4: User Typing Speed\n",
    "Measure typing speed and accuracy against a given prompt.\n"
   ]
  },
  {
   "cell_type": "markdown",
   "id": "702f4f1a",
   "metadata": {},
   "source": [
    "### S4.1 — Simple WPM and Accuracy\n",
    "\n",
    "Implement `typing_stats(prompt, typed, seconds)` that returns a dict with:\n",
    "\n",
    "         - `wpm`: words per minute based on 5 chars per word.\n",
    "         - `accuracy`: percent of matching characters in aligned positions, 0 to 100.\n",
    "\n",
    "         Ignore leading/trailing whitespace differences before comparing. Raise on `seconds <= 0`.\n"
   ]
  },
  {
   "cell_type": "markdown",
   "id": "09b00d53",
   "metadata": {},
   "source": [
    "### S4.2 — Timed Drill Simulator\n",
    "\n",
    "Write a small loop program that picks a random sentence from a list, shows it, starts a timer, accepts user input, then prints WPM and accuracy. \n",
    "\n",
    "         - Use `time.time()` for duration.\n",
    "         - Repeat 3 rounds and show an average.\n",
    "         - No external packages.\n"
   ]
  }
 ],
 "metadata": {},
 "nbformat": 4,
 "nbformat_minor": 5
}
