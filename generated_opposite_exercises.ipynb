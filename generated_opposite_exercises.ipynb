{
 "cells": [
  {
   "attachments": {},
   "cell_type": "markdown",
   "id": "ed03b316",
   "metadata": {},
   "source": [
    "# Opposite-Style Exercises to Midterm Tasks\n",
    "Generated on 2025-10-27\n",
    "\n",
    "These flip the goal while keeping the same topic and required skills.\n"
   ]
  },
  {
   "attachments": {},
   "cell_type": "markdown",
   "id": "53df2efe",
   "metadata": {},
   "source": [
    "## Opposites of Task 1: Unit Price Comparator\n",
    "Compare pack offers by calculating price per kilogram and pick the cheapest.\n"
   ]
  },
  {
   "attachments": {},
   "cell_type": "markdown",
   "id": "5ddd2bff",
   "metadata": {},
   "source": [
    "### O1.1 — Worst Value Detector\n",
    "\n",
    "Write `worst_value(items)` that returns the tuple `(weight_g, price_eur)` with the **highest** price per kilogram among valid entries. \n",
    "\n",
    "         - Same validation as in the original: positive weight and price only.\n",
    "         - Return `None` if no valid items.\n"
   ]
  },
  {
   "cell_type": "code",
   "execution_count": null,
   "id": "78aa136e",
   "metadata": {
    "vscode": {
     "languageId": "plaintext"
    }
   },
   "outputs": [],
   "source": []
  },
  {
   "attachments": {},
   "cell_type": "markdown",
   "id": "07bcdada",
   "metadata": {},
   "source": [
    "### O1.2 — Reconstruct Missing Label\n",
    "\n",
    "Given labels missing one field, fill the missing value: weight in g, price in €, or €/kg.\n",
    "\n",
    "         Implement `complete_label(label_str)` where the string has exactly one `?` placeholder, e.g. `\"750 g • ? € • 5.32 €/kg\"`.\n",
    "\n",
    "         - Compute the missing quantity from the other two.\n",
    "         - Return a normalized string with all three values to two decimals (€/kg with 2 decimal places).\n"
   ]
  },
  {
   "attachments": {},
   "cell_type": "markdown",
   "id": "a0e3c5dd",
   "metadata": {},
   "source": [
    "### O1.3 — Break-even Pack Size\n",
    "\n",
    "You must match a target unit price `u` (€/kg). Write `breakeven_sizes(prices, u)` where `prices` is a list of pack prices in €. \n",
    "\n",
    "         - Return a list of minimal integer gram-weights for which each price achieves unit price ≤ `u`.\n",
    "         - Use ceiling behavior for grams and cap at 100000 g; if impossible, return `None` for that price.\n"
   ]
  },
  {
   "attachments": {},
   "cell_type": "markdown",
   "id": "0d071f37",
   "metadata": {},
   "source": [
    "## Opposites of Task 2: Chess Board\n",
    "Generate an n×n chessboard pattern using alternating symbols.\n"
   ]
  },
  {
   "attachments": {},
   "cell_type": "markdown",
   "id": "c6fc5be7",
   "metadata": {},
   "source": [
    "### O2.1 — Is This a Chessboard?\n",
    "\n",
    "Given a string grid with `\\n`-separated rows and two distinct symbols, write `is_chessboard(grid)` that returns `True` iff it represents a valid alternating pattern where neighbors differ horizontally and vertically, starting with any symbol.\n"
   ]
  },
  {
   "attachments": {},
   "cell_type": "markdown",
   "id": "55f65fee",
   "metadata": {},
   "source": [
    "### O2.2 — Recover n From Board\n",
    "\n",
    "Given a chessboard string that begins with either symbol at top-left, write `board_size(grid)` returning `(rows, cols)` and `start_symbol`. Validate alternation; otherwise raise `ValueError`.\n"
   ]
  },
  {
   "attachments": {},
   "cell_type": "markdown",
   "id": "3afa8b5b",
   "metadata": {},
   "source": [
    "### O2.3 — Inverted Diagonals Pattern\n",
    "\n",
    "Generate an `n×n` pattern where cells are `a` if `(row+col)` is **even** and `b` otherwise, but then **invert** every cell on the two main diagonals. Return the string grid.\n",
    "\n",
    "         - Same printing constraints as the original.\n"
   ]
  },
  {
   "attachments": {},
   "cell_type": "markdown",
   "id": "852cd344",
   "metadata": {},
   "source": [
    "## Opposites of Task 3: Palindrome (Alnum, Case-insensitive)\n",
    "Check if a string is a palindrome ignoring case and non-alphanumeric characters.\n"
   ]
  },
  {
   "attachments": {},
   "cell_type": "markdown",
   "id": "5704ee9a",
   "metadata": {},
   "source": [
    "### O3.1 — First Mismatch Index\n",
    "\n",
    "Write `first_pal_mismatch(s)` that returns the lowest index in the **cleaned** string at which it fails to mirror as a palindrome; return `-1` if it is a palindrome. \n",
    "\n",
    "         - Cleaning rules identical to the original task.\n"
   ]
  },
  {
   "attachments": {},
   "cell_type": "markdown",
   "id": "1418c49e",
   "metadata": {},
   "source": [
    "### O3.2 — Make Palindrome in ≤1 Edit\n",
    "\n",
    "Implement `can_pal_one_edit(s)` returning `True` if `s` can become a palindrome by deleting **at most one** character (after cleaning).\n"
   ]
  },
  {
   "attachments": {},
   "cell_type": "markdown",
   "id": "f4941bf9",
   "metadata": {},
   "source": [
    "### O3.3 — Palindrome Normalizer\n",
    "\n",
    "Write `normalize_to_pal(s)` that returns a palindrome derived from `s` by mirroring the left half onto the right after cleaning, preserving original alphanumeric casing positions where possible. If empty after cleaning, return empty string.\n"
   ]
  },
  {
   "attachments": {},
   "cell_type": "markdown",
   "id": "2eefc3c1",
   "metadata": {},
   "source": [
    "## Opposites of Task 4: User Typing Speed\n",
    "Measure typing speed and accuracy against a given prompt.\n"
   ]
  },
  {
   "attachments": {},
   "cell_type": "markdown",
   "id": "76bc837e",
   "metadata": {},
   "source": [
    "### O4.1 — Time Needed for Target WPM\n",
    "\n",
    "Given a prompt and a target WPM, write `time_for_target(prompt, typed_len, target_wpm)` that estimates **minimum seconds** required to type `typed_len` characters at `target_wpm` using the 5-CPM-to-WPM convention.\n"
   ]
  },
  {
   "attachments": {},
   "cell_type": "markdown",
   "id": "d766c9de",
   "metadata": {},
   "source": [
    "### O4.2 — Accuracy Gatekeeper\n",
    "\n",
    "Write `gatekeeper(prompt, typed, min_accuracy)` that returns `'PASS'` if accuracy ≥ `min_accuracy` and `'RETYPE'` otherwise, using aligned-position comparison like the original.\n"
   ]
  },
  {
   "attachments": {},
   "cell_type": "markdown",
   "id": "41f941cf",
   "metadata": {},
   "source": [
    "### O4.3 — Adaptive Drill Planner\n",
    "\n",
    "Given past session stats `[(wpm, acc), ...]`, write `plan_next(sessions)` that returns a dict with:\n",
    "\n",
    "         - `target_wpm`: 5th percentile above median of past WPMs (ceil).\n",
    "         - `target_accuracy`: max(95, round(avg_acc)).\n",
    "         - `minutes`: 10 if last session under targets, else 5.\n",
    "\n",
    "         Use only built-in modules.\n"
   ]
  }
 ],
 "metadata": {
  "language_info": {
   "name": "python"
  }
 },
 "nbformat": 4,
 "nbformat_minor": 5
}
